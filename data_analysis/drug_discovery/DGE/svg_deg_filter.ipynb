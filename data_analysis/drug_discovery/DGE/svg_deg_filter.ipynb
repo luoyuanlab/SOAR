{
 "cells": [
  {
   "cell_type": "code",
   "execution_count": 2,
   "metadata": {
    "collapsed": true
   },
   "outputs": [],
   "source": [
    "import pandas as pd\n",
    "import os"
   ]
  },
  {
   "cell_type": "code",
   "execution_count": 18,
   "metadata": {
    "collapsed": true
   },
   "outputs": [],
   "source": [
    "dge_dir = '/share/fsmresfiles/SpatialT/drug-target/DS4A/DS4A.1/DGE_dec/'\n",
    "svg_dir = '/share/fsmresfiles/SpatialT/10x/PID4/DS4A/DS4A.1/analysis/SVG/'"
   ]
  },
  {
   "cell_type": "code",
   "execution_count": 22,
   "metadata": {},
   "outputs": [
    {
     "data": {
      "text/plain": [
       "['Endothelial.txt',\n",
       " 'T.reg.txt',\n",
       " 'DC.txt',\n",
       " 'B.cell.txt',\n",
       " 'Malignant.txt',\n",
       " 'TMKI67.txt',\n",
       " 'Monocyte.txt',\n",
       " 'CD4.txt',\n",
       " 'Macrophage.txt',\n",
       " 'Fibroblast.txt',\n",
       " 'NK.txt',\n",
       " 'CD8.txt']"
      ]
     },
     "execution_count": 22,
     "metadata": {},
     "output_type": "execute_result"
    }
   ],
   "source": [
    "os.listdir(dge_dir)"
   ]
  },
  {
   "cell_type": "code",
   "execution_count": 36,
   "metadata": {},
   "outputs": [
    {
     "name": "stdout",
     "output_type": "stream",
     "text": [
      "Endothelial\n",
      "SVG filtered\n",
      "DEG up and down shape: 782 1569\n",
      "T.reg\n",
      "No SVG file\n",
      "DEG up and down shape: 272 689\n",
      "DC\n",
      "SVG filtered\n",
      "DEG up and down shape: 198 931\n",
      "B.cell\n",
      "SVG filtered\n",
      "DEG up and down shape: 373 1325\n",
      "Malignant\n",
      "SVG filtered\n",
      "DEG up and down shape: 1187 1049\n",
      "TMKI67\n",
      "SVG filtered\n",
      "DEG up and down shape: 1401 766\n",
      "Monocyte\n",
      "SVG filtered\n",
      "DEG up and down shape: 268 229\n",
      "CD4\n",
      "SVG filtered\n",
      "DEG up and down shape: 343 815\n",
      "Macrophage\n",
      "SVG filtered\n",
      "DEG up and down shape: 559 1910\n",
      "Fibroblast\n",
      "SVG filtered\n",
      "DEG up and down shape: 868 1320\n",
      "NK\n",
      "No SVG file\n",
      "DEG up and down shape: 128 106\n",
      "CD8\n",
      "SVG filtered\n",
      "DEG up and down shape: 282 619\n"
     ]
    }
   ],
   "source": [
    "for file in os.listdir(dge_dir):\n",
    "    cell_type = file.split('.txt')[0]\n",
    "    sample_dge_dir = dge_dir.split('DGE_dec')[0]\n",
    "    print(cell_type)\n",
    "    deg = pd.read_csv(dge_dir+file, sep='\\t')\n",
    "    df_up = deg[(deg['stat']>0.5) & (deg['qval']<0.05) ]\n",
    "    df_down = deg[(deg['stat']<-0.5) & (deg['qval']<0.05) ]\n",
    "    if os.path.isfile(svg_dir+'SpatialDE_results_'+cell_type+'.tsv'):\n",
    "        svg = pd.read_csv(svg_dir+'SpatialDE_results_'+cell_type+'.tsv', sep='\\t')\n",
    "        deg=deg[deg['gene'].isin(svg['g'].tolist())]\n",
    "        print('SVG filtered')\n",
    "    else:\n",
    "        print('No SVG file')\n",
    "    df_up = deg[(deg['stat']>0.5) & (deg['qval']<0.05) ]\n",
    "    df_down = deg[(deg['stat']<-0.5) & (deg['qval']<0.05) ]\n",
    "    print('DEG up and down shape:', df_up.shape [0],df_down.shape[0])\n",
    "    \n",
    "    if not os.path.exists(sample_dge_dir+'DGE_dec_SVG'):\n",
    "        os.makedirs(sample_dge_dir+'DGE_dec_SVG')\n",
    "        \n",
    "    deg.to_csv(sample_dge_dir+'DGE_dec_SVG'+'/'+cell_type+'.csv',index=False)   \n",
    "    df_up.to_csv(sample_dge_dir+'DGE_dec_SVG'+'/'+cell_type+'_UP.csv',index=False)\n",
    "    df_down.to_csv(sample_dge_dir+'DGE_dec_SVG'+'/'+cell_type+'_DOWN.csv',index=False)"
   ]
  },
  {
   "cell_type": "code",
   "execution_count": null,
   "metadata": {
    "collapsed": true
   },
   "outputs": [],
   "source": []
  }
 ],
 "metadata": {
  "kernelspec": {
   "display_name": "stlearn",
   "language": "python",
   "name": "stlearn"
  },
  "language_info": {
   "codemirror_mode": {
    "name": "ipython",
    "version": 3
   },
   "file_extension": ".py",
   "mimetype": "text/x-python",
   "name": "python",
   "nbconvert_exporter": "python",
   "pygments_lexer": "ipython3",
   "version": "3.8.15"
  }
 },
 "nbformat": 4,
 "nbformat_minor": 2
}
