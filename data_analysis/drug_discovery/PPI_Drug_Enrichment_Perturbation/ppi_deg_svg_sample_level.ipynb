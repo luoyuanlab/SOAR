{
 "cells": [
  {
   "cell_type": "code",
   "execution_count": 2,
   "metadata": {
    "collapsed": true
   },
   "outputs": [],
   "source": [
    "import pandas as pd\n",
    "import os\n",
    "import numpy as np\n",
    "from math import isnan"
   ]
  },
  {
   "cell_type": "code",
   "execution_count": 3,
   "metadata": {
    "collapsed": true
   },
   "outputs": [],
   "source": [
    "# read in gene reference and remove unformatted genes\n",
    "gene = pd.read_table('/share/fsmresfiles/SpatialT/drug-target-results/HGNC.tsv')\n",
    "gene = gene[['NCBI Gene ID(supplied by NCBI)','Approved symbol']]\n",
    "gene.columns = ['num','name']\n",
    "lst = []\n",
    "for i in gene['num'].tolist():\n",
    "    if pd.isna(i) != True:\n",
    "        lst.append(int(i))\n",
    "    else:\n",
    "        lst.append(i)\n",
    "gene['num'] = lst\n",
    "gene_dict = gene.set_index('num').to_dict()['name']"
   ]
  },
  {
   "cell_type": "code",
   "execution_count": 4,
   "metadata": {
    "collapsed": true
   },
   "outputs": [],
   "source": [
    "clean_hgnc_dict = filter(lambda k: not isnan(k), gene_dict)\n",
    "clean_hgnc_dict = {k: gene_dict[k] for k in gene_dict if not isnan(k)}\n",
    "clean_hgnc_dict = {int(k):v for k,v in clean_hgnc_dict.items()}"
   ]
  },
  {
   "cell_type": "code",
   "execution_count": 5,
   "metadata": {
    "collapsed": true
   },
   "outputs": [],
   "source": [
    "# interactome for ppi network\n",
    "interactome = pd.read_csv('/share/fsmresfiles/SpatialT/drug-target-results-OVR-0725/Analysis_PPI/interactome.tsv', sep='\\t')"
   ]
  },
  {
   "cell_type": "code",
   "execution_count": 6,
   "metadata": {},
   "outputs": [
    {
     "data": {
      "text/html": [
       "<div>\n",
       "<style scoped>\n",
       "    .dataframe tbody tr th:only-of-type {\n",
       "        vertical-align: middle;\n",
       "    }\n",
       "\n",
       "    .dataframe tbody tr th {\n",
       "        vertical-align: top;\n",
       "    }\n",
       "\n",
       "    .dataframe thead th {\n",
       "        text-align: right;\n",
       "    }\n",
       "</style>\n",
       "<table border=\"1\" class=\"dataframe\">\n",
       "  <thead>\n",
       "    <tr style=\"text-align: right;\">\n",
       "      <th></th>\n",
       "      <th>#Protein A</th>\n",
       "      <th>Protein B</th>\n",
       "      <th>Source</th>\n",
       "      <th>Type</th>\n",
       "    </tr>\n",
       "  </thead>\n",
       "  <tbody>\n",
       "    <tr>\n",
       "      <th>0</th>\n",
       "      <td>1</td>\n",
       "      <td>310</td>\n",
       "      <td>InWeb_IM,IntAct,PINA</td>\n",
       "      <td>Literature</td>\n",
       "    </tr>\n",
       "    <tr>\n",
       "      <th>1</th>\n",
       "      <td>1</td>\n",
       "      <td>368</td>\n",
       "      <td>InWeb_IM,IntAct,PINA</td>\n",
       "      <td>Literature</td>\n",
       "    </tr>\n",
       "    <tr>\n",
       "      <th>2</th>\n",
       "      <td>1</td>\n",
       "      <td>1026</td>\n",
       "      <td>InWeb_IM,IntAct,PINA</td>\n",
       "      <td>Literature</td>\n",
       "    </tr>\n",
       "    <tr>\n",
       "      <th>3</th>\n",
       "      <td>1</td>\n",
       "      <td>2232</td>\n",
       "      <td>BioPlex2.0</td>\n",
       "      <td>Complex</td>\n",
       "    </tr>\n",
       "    <tr>\n",
       "      <th>4</th>\n",
       "      <td>1</td>\n",
       "      <td>2886</td>\n",
       "      <td>InWeb_IM,IntAct,PINA</td>\n",
       "      <td>Literature</td>\n",
       "    </tr>\n",
       "    <tr>\n",
       "      <th>...</th>\n",
       "      <td>...</td>\n",
       "      <td>...</td>\n",
       "      <td>...</td>\n",
       "      <td>...</td>\n",
       "    </tr>\n",
       "    <tr>\n",
       "      <th>351439</th>\n",
       "      <td>100506164</td>\n",
       "      <td>100506164</td>\n",
       "      <td>IntAct</td>\n",
       "      <td>Literature</td>\n",
       "    </tr>\n",
       "    <tr>\n",
       "      <th>351440</th>\n",
       "      <td>100506658</td>\n",
       "      <td>100506658</td>\n",
       "      <td>HPRD</td>\n",
       "      <td>Literature</td>\n",
       "    </tr>\n",
       "    <tr>\n",
       "      <th>351441</th>\n",
       "      <td>100506742</td>\n",
       "      <td>100506742</td>\n",
       "      <td>BioGRID</td>\n",
       "      <td>Literature</td>\n",
       "    </tr>\n",
       "    <tr>\n",
       "      <th>351442</th>\n",
       "      <td>100532737</td>\n",
       "      <td>100532737</td>\n",
       "      <td>DFCI_NET_2016</td>\n",
       "      <td>Binary</td>\n",
       "    </tr>\n",
       "    <tr>\n",
       "      <th>351443</th>\n",
       "      <td>100861412</td>\n",
       "      <td>100861412</td>\n",
       "      <td>IntAct</td>\n",
       "      <td>Literature</td>\n",
       "    </tr>\n",
       "  </tbody>\n",
       "</table>\n",
       "<p>351444 rows × 4 columns</p>\n",
       "</div>"
      ],
      "text/plain": [
       "        #Protein A  Protein B                Source        Type\n",
       "0                1        310  InWeb_IM,IntAct,PINA  Literature\n",
       "1                1        368  InWeb_IM,IntAct,PINA  Literature\n",
       "2                1       1026  InWeb_IM,IntAct,PINA  Literature\n",
       "3                1       2232            BioPlex2.0     Complex\n",
       "4                1       2886  InWeb_IM,IntAct,PINA  Literature\n",
       "...            ...        ...                   ...         ...\n",
       "351439   100506164  100506164                IntAct  Literature\n",
       "351440   100506658  100506658                  HPRD  Literature\n",
       "351441   100506742  100506742               BioGRID  Literature\n",
       "351442   100532737  100532737         DFCI_NET_2016      Binary\n",
       "351443   100861412  100861412                IntAct  Literature\n",
       "\n",
       "[351444 rows x 4 columns]"
      ]
     },
     "execution_count": 6,
     "metadata": {},
     "output_type": "execute_result"
    }
   ],
   "source": [
    "interactome"
   ]
  },
  {
   "cell_type": "code",
   "execution_count": 7,
   "metadata": {
    "scrolled": true
   },
   "outputs": [
    {
     "name": "stdout",
     "output_type": "stream",
     "text": [
      "244\n",
      "4029\n",
      "5171\n",
      "7795\n",
      "9503\n",
      "10638\n",
      "11217\n",
      "23285\n",
      "26148\n",
      "55747\n",
      "79686\n",
      "80761\n",
      "114299\n",
      "142937\n",
      "153684\n",
      "155060\n",
      "285464\n",
      "389834\n",
      "400590\n",
      "554045\n",
      "643752\n",
      "283970\n",
      "728932\n",
      "338809\n",
      "445347\n",
      "554223\n",
      "729603\n",
      "727738\n",
      "100294715\n",
      "441520\n",
      "1283\n",
      "100287428\n",
      "653219\n",
      "221016\n",
      "348738\n",
      "101243544\n",
      "100507714\n",
      "85371\n",
      "440157\n",
      "642947\n",
      "339457\n",
      "164022\n",
      "653252\n",
      "100129534\n",
      "728392\n",
      "252842\n",
      "6025\n",
      "145757\n",
      "283011\n",
      "497048\n",
      "100127889\n",
      "100652775\n",
      "728461\n",
      "653973\n",
      "100129885\n",
      "414927\n",
      "730441\n",
      "117153\n",
      "728071\n",
      "374467\n",
      "388289\n",
      "389523\n",
      "641590\n",
      "654348\n",
      "728936\n",
      "729368\n",
      "646938\n",
      "100862685\n",
      "284083\n",
      "445341\n",
      "653602\n",
      "100526832\n",
      "653129\n",
      "284912\n",
      "728013\n",
      "162137\n",
      "643832\n",
      "442028\n",
      "497049\n",
      "727751\n",
      "392490\n",
      "554206\n",
      "652276\n"
     ]
    }
   ],
   "source": [
    "unmappable_pro = []\n",
    "Protein_A_Name = []\n",
    "Protein_B_Name = []\n",
    "\n",
    "for i in interactome['#Protein A'].tolist():\n",
    "    if i in clean_hgnc_dict.keys(): \n",
    "        Protein_A_Name.append(clean_hgnc_dict[i] )\n",
    "    else:\n",
    "        if i not in unmappable_pro: \n",
    "            unmappable_pro.append(i)\n",
    "            print(i)\n",
    "        Protein_A_Name.append('drop')\n",
    "\n",
    "for i in interactome['Protein B'].tolist():\n",
    "    if i in clean_hgnc_dict.keys(): \n",
    "        Protein_B_Name.append(clean_hgnc_dict[i] )\n",
    "    else:\n",
    "        if i not in unmappable_pro: \n",
    "            unmappable_pro.append(i)\n",
    "            print(i)\n",
    "        Protein_B_Name.append('drop')"
   ]
  },
  {
   "cell_type": "code",
   "execution_count": 8,
   "metadata": {},
   "outputs": [
    {
     "name": "stdout",
     "output_type": "stream",
     "text": [
      "101 441\n"
     ]
    },
    {
     "data": {
      "text/plain": [
       "538"
      ]
     },
     "execution_count": 8,
     "metadata": {},
     "output_type": "execute_result"
    }
   ],
   "source": [
    "# drop unmappable interactome interactions\n",
    "interactome['Protein_A_Name'] = Protein_A_Name\n",
    "interactome['Protein_B_Name'] = Protein_B_Name\n",
    "dropa_index = interactome[interactome['Protein_A_Name'] == 'drop'].index.tolist()\n",
    "dropb_index = interactome[interactome['Protein_B_Name'] == 'drop'].index.tolist()\n",
    "print(len(dropa_index), len(dropb_index))\n",
    "# 538 interactions removed due to unmappable gene number \n",
    "for i in dropa_index:\n",
    "    if i not in dropb_index:\n",
    "        dropb_index.append(i)\n",
    "len(dropb_index)"
   ]
  },
  {
   "cell_type": "code",
   "execution_count": 9,
   "metadata": {
    "collapsed": true
   },
   "outputs": [],
   "source": [
    "clean_interactome = interactome.drop(dropb_index)"
   ]
  },
  {
   "cell_type": "code",
   "execution_count": 16,
   "metadata": {},
   "outputs": [
    {
     "name": "stdout",
     "output_type": "stream",
     "text": [
      "DS4A DS4A.1\n",
      "B.cell saved ppi\n",
      "TMKI67 saved ppi\n",
      "NK saved ppi\n",
      "CD4 saved ppi\n",
      "Fibroblast saved ppi\n",
      "Endothelial saved ppi\n",
      "T.reg saved ppi\n",
      "DC saved ppi\n",
      "Malignant saved ppi\n",
      "CD8 saved ppi\n",
      "Monocyte saved ppi\n",
      "Macrophage saved ppi\n"
     ]
    }
   ],
   "source": [
    "# sample level ppi\n",
    "#for idx, row in all_patho_deg.iterrows():\n",
    "    #ds = row[0]\n",
    "    #sample = row[1]\n",
    "ds = 'DS4A'\n",
    "sample = 'DS4A.1'\n",
    "print(ds, sample)\n",
    "# create output dir\n",
    "ppi_website_dir = '/share/fsmresfiles/SpatialT/website/staging/data_v3_release/drug_screen/ppi_svg/'+ds+'/'+sample+'/'\n",
    "if not os.path.exists(ppi_website_dir):\n",
    "    os.makedirs(ppi_website_dir)\n",
    "deg_dir = '/share/fsmresfiles/SpatialT/drug-target/'+ds+'/'+sample+'/DGE_dec_SVG/'\n",
    "for deg_file in os.listdir(deg_dir):\n",
    "    if 'UP' not in deg_file and 'DOWN' not in deg_file:\n",
    "        # read in deg-svg file and filter (no svg fitler placed on cell types that don't have SVG analysis )\n",
    "        cell_type = deg_file.split('.csv')[0]\n",
    "        log2fc = pd.read_csv(deg_dir+deg_file)\n",
    "        log2fc['abs_stat'] = [abs(i) for i in log2fc['stat'].tolist()]\n",
    "        log2fc_top300 = log2fc.sort_values('abs_stat', ascending=False)[:300]\n",
    "        log2fc_top300_sig = log2fc_top300[log2fc_top300['qval']<0.05]\n",
    "\n",
    "\n",
    "        # map degs to inteactome\n",
    "        ppi_index_interactome_top300 = []\n",
    "        for i in clean_interactome.iterrows():\n",
    "            row = i[1]\n",
    "            if row['Protein_A_Name'] in log2fc_top300_sig['gene'].tolist() and row['Protein_B_Name'] in log2fc_top300_sig['gene'].tolist():\n",
    "                ppi_index_interactome_top300.append(i[0])\n",
    "        ppi_top300 = clean_interactome[clean_interactome.index.isin(ppi_index_interactome_top300)][['#Protein A','Protein B', 'Protein_A_Name','Protein_B_Name']]\n",
    "\n",
    "        # drop ppis where both proteins are the same\n",
    "        same_pro_index_top300 = []\n",
    "        for i in ppi_top300.iterrows():\n",
    "            row = i[1]\n",
    "            if row['#Protein A'] == row['Protein B']:\n",
    "                same_pro_index_top300.append(i[0])\n",
    "        ppi_top300_nored = ppi_top300.drop(same_pro_index_top300)\n",
    "\n",
    "        # format edges list for output\n",
    "        ppi_top300_nored = ppi_top300_nored[['Protein_A_Name','Protein_B_Name']]\n",
    "        ppi_top300_nored.columns = ['Source','Target']\n",
    "\n",
    "        # format nodes list for output\n",
    "        ppi_uniq_pro = list(set(ppi_top300_nored['Source'].tolist()) )\n",
    "        for i in ppi_top300_nored['Target'].tolist():\n",
    "            if i not in ppi_top300_nored['Source'].tolist() and i not in ppi_uniq_pro :\n",
    "                ppi_uniq_pro.append(i)\n",
    "\n",
    "        ppi_nodes_top300 = pd.DataFrame()\n",
    "        ppi_nodes_top300['ID'] = ppi_uniq_pro\n",
    "        ppi_nodes_top300['Label'] = ppi_uniq_pro\n",
    "\n",
    "        ppi_nodes_top300 = pd.merge(ppi_nodes_top300, log2fc[['gene','stat']], how = 'left', right_on = 'gene', left_on = 'Label')\n",
    "        ppi_nodes_top300 = ppi_nodes_top300.drop('gene',axis = 1)\n",
    "\n",
    "        ppi_nodes_top300['sign'] = [np.sign(i) for i in ppi_nodes_top300['stat'].tolist()]\n",
    "        ppi_nodes_top300['abs_stat'] = [abs(i) for i in ppi_nodes_top300['stat'].tolist()]\n",
    "\n",
    "        # save\n",
    "        ppi_nodes_top300.to_csv(ppi_website_dir+cell_type+'_ppi_nodes.csv', index=False)\n",
    "        ppi_top300_nored.to_csv(ppi_website_dir+cell_type+'_ppi.csv', index=False)\n",
    "        print(cell_type,'saved ppi')\n"
   ]
  },
  {
   "cell_type": "code",
   "execution_count": null,
   "metadata": {
    "collapsed": true
   },
   "outputs": [],
   "source": []
  }
 ],
 "metadata": {
  "kernelspec": {
   "display_name": "stlearn",
   "language": "python",
   "name": "stlearn"
  },
  "language_info": {
   "codemirror_mode": {
    "name": "ipython",
    "version": 3
   },
   "file_extension": ".py",
   "mimetype": "text/x-python",
   "name": "python",
   "nbconvert_exporter": "python",
   "pygments_lexer": "ipython3",
   "version": "3.8.15"
  }
 },
 "nbformat": 4,
 "nbformat_minor": 2
}
