{
 "cells": [
  {
   "cell_type": "code",
   "execution_count": 108,
   "metadata": {
    "collapsed": true
   },
   "outputs": [],
   "source": [
    "import cmapPy\n",
    "import cmapPy.pandasGEXpress.parse\n",
    "import json\n",
    "import numpy as np\n",
    "from collections import Counter\n",
    "np.random.seed(1024)\n",
    "import pandas as pd\n",
    "import statsmodels\n",
    "from statsmodels.stats.multitest import fdrcorrection\n",
    "import os\n",
    "from sklearn.preprocessing import MinMaxScaler\n",
    "scaler = MinMaxScaler(feature_range = (-2,2))"
   ]
  },
  {
   "cell_type": "markdown",
   "metadata": {},
   "source": [
    "# gene processing"
   ]
  },
  {
   "cell_type": "code",
   "execution_count": 109,
   "metadata": {
    "collapsed": true
   },
   "outputs": [],
   "source": [
    "# hgnc genes\n",
    "hgnc_v2 = pd.read_csv('/share/fsmresfiles/SpatialT/drug-target-results-OVR-0725/Analysis_PPI/HGNC091923.txt', sep='\\t')\n",
    "hgnc_dict = dict(zip(hgnc_v2['Approved symbol'], hgnc_v2['NCBI gene ID']))\n",
    "hgnc_v2_prev = hgnc_v2[hgnc_v2['Previous symbol'].notnull()]\n",
    "hgnc_dict_prev = dict(zip(hgnc_v2_prev['Previous symbol'], hgnc_v2_prev['NCBI gene ID']))"
   ]
  },
  {
   "cell_type": "code",
   "execution_count": 110,
   "metadata": {
    "collapsed": true
   },
   "outputs": [],
   "source": [
    "gene_info = pd.read_csv('/share/fsmresfiles/SpatialT/cmap2_l1000/geneinfo_beta.txt', sep='\\t')"
   ]
  },
  {
   "cell_type": "code",
   "execution_count": 111,
   "metadata": {},
   "outputs": [
    {
     "name": "stderr",
     "output_type": "stream",
     "text": [
      "/tmp/ipykernel_36737/1579832669.py:10: SettingWithCopyWarning: \n",
      "A value is trying to be set on a copy of a slice from a DataFrame.\n",
      "Try using .loc[row_indexer,col_indexer] = value instead\n",
      "\n",
      "See the caveats in the documentation: https://pandas.pydata.org/pandas-docs/stable/user_guide/indexing.html#returning-a-view-versus-a-copy\n",
      "  gene_cmap2['num'] = lst\n"
     ]
    }
   ],
   "source": [
    "# mapping gene indices to real names \n",
    "gene_cmap2 = gene_info[['gene_id','gene_symbol']]\n",
    "gene_cmap2.columns = ['num','name']\n",
    "lst = []\n",
    "for i in gene_cmap2['num'].tolist():\n",
    "    if pd.isna(i) != True:\n",
    "        lst.append(int(i))\n",
    "    else:\n",
    "        lst.append(i)\n",
    "gene_cmap2['num'] = lst\n",
    "gene_dict_cmap2 = gene_cmap2.set_index('num').to_dict()['name']\n",
    "gene_dict_cmap2_rev = {v:k for k,v in gene_dict_cmap2.items()}"
   ]
  },
  {
   "cell_type": "markdown",
   "metadata": {},
   "source": [
    "# cmap2 enrichment setup"
   ]
  },
  {
   "cell_type": "code",
   "execution_count": 112,
   "metadata": {
    "collapsed": true
   },
   "outputs": [],
   "source": [
    "# rank file of 6hr perturbations (from z scores)- gene x compound effects\n",
    "cmap2_cmap1_perturb_rank_dur = pd.read_csv('/share/fsmresfiles/SpatialT/cmap2_l1000/processed/6hr_only/cmap2_6hr_pert_rank.csv', engine='c')"
   ]
  },
  {
   "cell_type": "code",
   "execution_count": 113,
   "metadata": {
    "collapsed": true
   },
   "outputs": [],
   "source": [
    "cmap2_cmap1_perturb_rank_dur = cmap2_cmap1_perturb_rank_dur.set_index('Unnamed: 0')"
   ]
  },
  {
   "cell_type": "code",
   "execution_count": 114,
   "metadata": {
    "collapsed": true
   },
   "outputs": [],
   "source": [
    "cmap2_cmap1_perturb_rank_dur_arry = np.array(cmap2_cmap1_perturb_rank_dur)"
   ]
  },
  {
   "cell_type": "code",
   "execution_count": 115,
   "metadata": {
    "collapsed": true
   },
   "outputs": [],
   "source": [
    "ROWS_dur = [str(gene_dict_cmap2_rev[i]) for i in cmap2_cmap1_perturb_rank_dur.index]\n",
    "COLS_dur = cmap2_cmap1_perturb_rank_dur.columns.tolist()\n",
    "ROW2IDX2_val_dur = list(range(0,len(ROWS_dur)))\n",
    "COL2IDX2_val_dur = list(range(0,len(COLS_dur)))\n",
    "ROW2IDX_key_dur = ROWS_dur\n",
    "COL2IDX_key_dur = COLS_dur\n",
    "ROW2IDX_dur = {k:v for k,v in zip(ROW2IDX_key_dur, ROW2IDX2_val_dur)}\n",
    "COL2IDX_dur = {k:v for k,v in zip(COL2IDX_key_dur, COL2IDX2_val_dur)}"
   ]
  },
  {
   "cell_type": "code",
   "execution_count": 116,
   "metadata": {
    "collapsed": true
   },
   "outputs": [],
   "source": [
    "N_GENES, N_PERTURBATIONS = cmap2_cmap1_perturb_rank_dur_arry.shape\n",
    "N_REPEATS = 1000\n",
    "RANDOM_RANK = np.random.rand(N_GENES, N_REPEATS).argsort(axis=0) + 1  # gene x repeat"
   ]
  },
  {
   "cell_type": "markdown",
   "metadata": {},
   "source": [
    "# cmap2 perturbation setup"
   ]
  },
  {
   "cell_type": "code",
   "execution_count": 117,
   "metadata": {
    "collapsed": true
   },
   "outputs": [],
   "source": [
    "# cmap2 perturbation zscore\n",
    "z_score = np.load('/share/fsmresfiles/SpatialT/cmap2_l1000/processed/6hr_only/cmap2_6hr_pert_z.npy')"
   ]
  },
  {
   "cell_type": "code",
   "execution_count": 118,
   "metadata": {
    "collapsed": true
   },
   "outputs": [],
   "source": [
    "z_score_df = pd.DataFrame(z_score)"
   ]
  },
  {
   "cell_type": "code",
   "execution_count": 119,
   "metadata": {
    "collapsed": true
   },
   "outputs": [],
   "source": [
    "z_score_df.columns = cmap2_cmap1_perturb_rank_dur.columns\n",
    "z_score_df.index = cmap2_cmap1_perturb_rank_dur.index"
   ]
  },
  {
   "cell_type": "markdown",
   "metadata": {},
   "source": [
    "# format DGE results"
   ]
  },
  {
   "cell_type": "code",
   "execution_count": 120,
   "metadata": {
    "collapsed": true
   },
   "outputs": [],
   "source": [
    "def get_up_down_deg (df):\n",
    "    df_up = df[(df['stat']>0.5) & (df['qval']<0.05) ]\n",
    "    df_down = df[(df['stat']<-0.5) & (df['qval']<0.05) ]\n",
    "    return df_up, df_down"
   ]
  },
  {
   "cell_type": "code",
   "execution_count": 121,
   "metadata": {
    "collapsed": true
   },
   "outputs": [],
   "source": [
    "# transform from genename to number\n",
    "import math\n",
    "def hgnc_gene_up_down(up_df, down_df):\n",
    "    gene_num_up = []\n",
    "    for i in up_df['gene'].tolist():\n",
    "        if i in hgnc_dict.keys() and math.isnan(hgnc_dict[i]) == False:\n",
    "            gene_num_up.append(str(int(hgnc_dict[i])))\n",
    "        elif i in hgnc_dict_prev.keys() and math.isnan(hgnc_dict_prev[i]) == False:\n",
    "            gene_num_up.append(str(int(hgnc_dict_prev[i])))\n",
    "        else:\n",
    "            print('SKIP GENE',i)\n",
    "\n",
    "    gene_num_down = []\n",
    "    for i in down_df['gene'].tolist():\n",
    "        if i in hgnc_dict.keys() and math.isnan(hgnc_dict[i]) == False:\n",
    "            gene_num_down.append(str(int(hgnc_dict[i])))\n",
    "        elif i in hgnc_dict_prev.keys() and math.isnan(hgnc_dict_prev[i]) == False:\n",
    "            gene_num_down.append(str(int(hgnc_dict_prev[i])))\n",
    "        else:\n",
    "            print('SKIP GENE', i) \n",
    "    return gene_num_up, gene_num_down"
   ]
  },
  {
   "cell_type": "code",
   "execution_count": 122,
   "metadata": {
    "collapsed": true
   },
   "outputs": [],
   "source": [
    "def write_gene_up_down(gene_lst, cell, direction):\n",
    "    dge_dir = '/share/fsmresfiles/SpatialT/drug-target-cmap2/'+dsid+'/'+sampleid+'/DGE_dec_SVG_gene_num/'\n",
    "    if not os.path.exists(dge_dir ):\n",
    "        os.makedirs(dge_dir )\n",
    "    #print(dge_dir+cell+'_'+direction+'.txt')\n",
    "    with open(dge_dir+cell+'_'+direction+'.txt', 'w') as f:\n",
    "        for line in gene_lst:\n",
    "            f.write(f\"{line}\\n\")"
   ]
  },
  {
   "cell_type": "markdown",
   "metadata": {},
   "source": [
    "# GSEA"
   ]
  },
  {
   "cell_type": "code",
   "execution_count": 123,
   "metadata": {
    "collapsed": true
   },
   "outputs": [],
   "source": [
    "def cmap2_gsea_setup(gene_num_up, gene_num_down):\n",
    "    DATA = {\n",
    "        \"U\": [ROW2IDX_dur[g] for g in gene_num_up if g in ROW2IDX_dur],\n",
    "        \"D\": [ROW2IDX_dur[g] for g in gene_num_down if g in ROW2IDX_dur],\n",
    "    }\n",
    "    N_UP = len(DATA[\"U\"])\n",
    "    N_DOWN = len(DATA[\"D\"])\n",
    "    #print(N_UP, N_DOWN)\n",
    "    return DATA, N_UP, N_DOWN"
   ]
  },
  {
   "cell_type": "code",
   "execution_count": 124,
   "metadata": {
    "collapsed": true
   },
   "outputs": [],
   "source": [
    "# up/down gene set level es\n",
    "def STEP1(v):\n",
    "    # deg sorted up/down reg gene perrturb array\n",
    "    v = sorted(v)\n",
    "    #print('v:', v, len(v))\n",
    "    # t = length of up/down reg gene perturb array\n",
    "    t = len(v)\n",
    "    \n",
    "    # (i+1)/t = fraction of elements up to index i in sorted up/down gene list \n",
    "    # v[i]/n_genes = fraction of the rank of the current gene at index i out of the total number of genes\n",
    "    # total upward (a) and downward (b) influence (es) for each up/down reg gene set\n",
    "    a = max((i + 1) / t - v[i] / N_GENES for i in range(t)) #look into paper percentage versus ngenes (window)\n",
    "    b = max(v[i] / N_GENES - i / t for i in range(t))\n",
    "    es = 0\n",
    "    if a > b: #check what a and b is\n",
    "        es = a\n",
    "    elif b > a:\n",
    "        es = -b\n",
    "    #print('a:',a,'b:', b)\n",
    "    return es\n",
    "\n",
    "# diff of up/down gene set es \n",
    "def STEP2(rank_u, rank_d):\n",
    "    #print(rank_u)\n",
    "    # calculate up genes and down genes es difference for each perturbation to determine overall es  \n",
    "    es_u = STEP1(rank_u) if rank_u.size else 0\n",
    "    es_d = STEP1(rank_d) if rank_d.size else 0\n",
    "    #print(es_u, es_d)\n",
    "    if np.sign(es_u) == np.sign(es_d):\n",
    "        return 0\n",
    "    return es_u - es_d\n"
   ]
  },
  {
   "cell_type": "code",
   "execution_count": 125,
   "metadata": {
    "collapsed": true
   },
   "outputs": [],
   "source": [
    "def run_gsea(DATA, N_UP, N_DOWN):\n",
    "    background = np.array([STEP2(RANDOM_RANK[:N_UP, c], RANDOM_RANK[N_UP:N_UP + N_DOWN, c]) for c in range(N_REPEATS)])\n",
    "    result = []\n",
    "    # for each perturbation, calculate the es score difference of up genes and down genes\n",
    "    for col in range(N_PERTURBATIONS):\n",
    "        es = STEP2(cmap2_cmap1_perturb_rank_dur_arry[DATA[\"U\"], col], cmap2_cmap1_perturb_rank_dur_arry[DATA[\"D\"], col])\n",
    "        #print(es)\n",
    "        p = 1.0\n",
    "        if es > 0:\n",
    "            p = np.mean(background > es)\n",
    "        elif es < 0:\n",
    "            p = np.mean(background < es)\n",
    "        result.append((es, p))\n",
    "    return result"
   ]
  },
  {
   "cell_type": "markdown",
   "metadata": {},
   "source": [
    "# format gsea"
   ]
  },
  {
   "cell_type": "code",
   "execution_count": 126,
   "metadata": {
    "collapsed": true
   },
   "outputs": [],
   "source": [
    "# all drugs enrichment score\n",
    "def format_gsea_res(result, cell):\n",
    "    res_formatted = pd.DataFrame(result)\n",
    "    res_formatted.columns = ['es','p']\n",
    "    res_formatted['es'] = [round(i,3) for i in res_formatted['es'].tolist()]\n",
    "    res_formatted['p-adj']=statsmodels.stats.multitest.fdrcorrection(res_formatted['p'].tolist(), alpha=0.05, method='indep', is_sorted=False)[1]\n",
    "    res_formatted = res_formatted.reset_index()\n",
    "    res_formatted.index = COLS_dur\n",
    "    #res_formatted = res_formatted.drop('level_0',axis = 1)\n",
    "    res_formatted['drug'] = [i.split('--')[0] for i in res_formatted.index.tolist()]\n",
    "    enrich_dir = '/share/fsmresfiles/SpatialT/drug-target-cmap2/'+dsid+'/'+sampleid+'/Enrichment_SVG/'\n",
    "    if not os.path.exists(enrich_dir ):\n",
    "        os.makedirs(enrich_dir )\n",
    "    res_formatted.to_csv(enrich_dir+cell+'.csv')\n",
    "    return res_formatted"
   ]
  },
  {
   "cell_type": "code",
   "execution_count": 127,
   "metadata": {
    "collapsed": true
   },
   "outputs": [],
   "source": [
    "# top and bottom 500 enriched drugs\n",
    "def format_enrich(ds, cell):\n",
    "    res = pd.DataFrame()\n",
    "    res['CMAP_instance'] = [i.split('--')[1] for i in ds.index.tolist()]\n",
    "    res['Drug'] = ds['drug'].tolist()\n",
    "    res['Enrichment_score'] = ds['es'].tolist()\n",
    "    res['P-value'] = ds['p'].tolist()\n",
    "    res['Adj-p']= ds['p-adj'].tolist()\n",
    "    res = res.sort_values('Enrichment_score', ascending=False)\n",
    "    res_inv = res.head(500)\n",
    "    res_pos = res.tail(500)\n",
    "    enrich_dir = '/share/fsmresfiles/SpatialT/website/staging/data_v3_release/drug_screen/drug_enrichment_cmap2_SVG/'+dsid+'/'+sampleid+'/'\n",
    "    if not os.path.exists(enrich_dir ):\n",
    "        os.makedirs(enrich_dir )\n",
    "    res_inv.to_csv(enrich_dir+cell+'_INV_es.csv', index=False)\n",
    "    res_pos.to_csv(enrich_dir+cell+'_POS_es.csv', index=False)\n",
    "    return res_inv, res_pos"
   ]
  },
  {
   "cell_type": "markdown",
   "metadata": {},
   "source": [
    "# perturbation"
   ]
  },
  {
   "cell_type": "code",
   "execution_count": 128,
   "metadata": {
    "collapsed": true
   },
   "outputs": [],
   "source": [
    "def get_perturb_zs(cell, direction, es_df, dge, cell_type_deg_z, cell_type_deg_rank):\n",
    "    perturb_dir = '/share/fsmresfiles/SpatialT/drug-target-cmap2/'+dsid+'/'+sampleid+'/Perturbation_SVG/'+cell+'/'+direction+'/'\n",
    "    if not os.path.exists(perturb_dir):\n",
    "        os.makedirs(perturb_dir)  \n",
    "    for j,i in es_df.iterrows():\n",
    "        drug_idx = i['CMAP_instance']\n",
    "        drug = i['Drug']\n",
    "        drug_new_idx = drug + '--' +drug_idx\n",
    "        #print(j, drug_new_idx)\n",
    "        zs = cell_type_deg_z[[drug_new_idx]]\n",
    "        zs.columns = ['z']\n",
    "        zs = zs.sort_values('z')\n",
    "        rs = cell_type_deg_rank[[drug_new_idx]]\n",
    "        rs=rs[rs.index.isin(zs.index)]\n",
    "        rs.columns = ['rank']\n",
    "        zs = zs.merge(rs, how = 'inner', left_index=True, right_index= True)\n",
    "        zs = zs.merge(dge, how = 'left', left_index=True, right_on = 'gene')\n",
    "        zs.to_csv(perturb_dir+drug_new_idx+'.csv', index =False)"
   ]
  },
  {
   "cell_type": "code",
   "execution_count": 129,
   "metadata": {
    "collapsed": true
   },
   "outputs": [],
   "source": [
    "# format pertrbation network to create edge and node file\n",
    "def format_perturb(perturb_dir, cell):           \n",
    "    os.chdir(perturb_dir)\n",
    "    for direc in os.listdir(perturb_dir):\n",
    "        os.chdir(perturb_dir+direc+'/')\n",
    "        perturb_sample_dir = '/share/fsmresfiles/SpatialT/website/staging/data_v3_release/drug_screen/drug_perturbation_cmap2_SVG/'+dsid+'/'+sampleid+'/'+cell+'/'+direc+'/'\n",
    "        if not os.path.exists(perturb_sample_dir):\n",
    "            os.makedirs(perturb_sample_dir)\n",
    "        \n",
    "        for perturb in os.listdir():\n",
    "            #print(direc, perturb)\n",
    "            drug = perturb.split('--')[0]\n",
    "            cmap_instance = perturb.split('--')[1].split('.csv')[0]\n",
    "            cmap_drug = perturb.split('.csv')[0]\n",
    "            \n",
    "            # edges\n",
    "            perturb_df = pd.read_csv(perturb)\n",
    "            deg_gene_num = perturb_df.shape[0]\n",
    "            perturb_edges = pd.DataFrame()\n",
    "            perturb_edges['Source'] = [drug for i in range(deg_gene_num)]\n",
    "            perturb_edges['CMAP_instance'] = [cmap_instance for i in range(deg_gene_num)]\n",
    "            perturb_edges['Target'] = perturb_df['gene'].tolist()\n",
    "            perturb_edges['log2fc'] = perturb_df['stat'].tolist()\n",
    "            perturb_edges['exp_z'] = perturb_df['z'].tolist()\n",
    "            perturb_edges['exp_z_norm'] = [i[0] for i in scaler.fit_transform(np.array(perturb_edges['exp_z'].tolist()).reshape(-1, 1))]\n",
    "            perturb_edges['abs_log2fc'] = [abs(i) for i in perturb_df['stat'].tolist()]\n",
    "            perturb_edges['sign_log2fc'] = [np.sign(i) for i in perturb_df['stat'].tolist()]\n",
    "            perturb_edges = perturb_edges.sort_values('exp_z')\n",
    "            head_edges = perturb_edges.head(30)\n",
    "            tail_edges = perturb_edges.tail(30)\n",
    "            perturb_edges_sub = pd.concat([head_edges, tail_edges])\n",
    "            perturb_edges_sub.to_csv(perturb_sample_dir+cmap_drug+'_perturb.csv',index=False)\n",
    "                \n",
    "            # nodes\n",
    "            perturb_nodes = pd.DataFrame()\n",
    "            perturb_nodes['Id'] = perturb_edges_sub['Target'] \n",
    "            perturb_nodes['Label'] = perturb_edges_sub['Target'] \n",
    "            perturb_nodes['log2fc'] = perturb_edges_sub['log2fc']\n",
    "            perturb_nodes['sign_log2fc'] = perturb_edges_sub['sign_log2fc'] \n",
    "            perturb_nodes['abs_log2fc'] = perturb_edges_sub['abs_log2fc'] \n",
    "            drug_row = pd.DataFrame({'Id':[perturb_edges_sub['Source'].unique().tolist()[0]],\n",
    "                                 'Label':[perturb_edges_sub['Source'].unique().tolist()[0]],\n",
    "                                 'log2fc':[10],\n",
    "                                 'sign_log2fc':[0],\n",
    "                                 'abs_log2fc':[10]})\n",
    "            perturb_nodes = pd.concat([drug_row, perturb_nodes])\n",
    "            perturb_nodes.to_csv(perturb_sample_dir+cmap_drug+'_perturb_nodes.csv',index=False)\n"
   ]
  },
  {
   "cell_type": "markdown",
   "metadata": {},
   "source": [
    "# running enrichment"
   ]
  },
  {
   "cell_type": "code",
   "execution_count": 133,
   "metadata": {
    "collapsed": true
   },
   "outputs": [],
   "source": [
    "def run_enrich_perturb(dsid, sampleid, deg_dir, cell_direc):\n",
    "    for ct in cell_direc:\n",
    "        # deg\n",
    "        cell = ct.split('.csv')[0]\n",
    "        deg = pd.read_csv(deg_dir + '/' + ct)\n",
    "        print('deg file read in for:', dsid, sampleid, cell)\n",
    "        deg_up, deg_down = get_up_down_deg(deg)\n",
    "        print('deg shape:', deg_up.shape, deg_down.shape)\n",
    "        if deg_up.shape[0] > 2000 or deg_up.shape[0] <10 or deg_down.shape[0] > 2000 or deg_down.shape[0] <10:\n",
    "            print('deg too few or too many')\n",
    "            print('\\n')\n",
    "            continue\n",
    "        gene_num_up, gene_num_down =  hgnc_gene_up_down(deg_up, deg_down )\n",
    "        write_gene_up_down(gene_num_up, cell, 'UP')\n",
    "        write_gene_up_down(gene_num_up, cell, 'DOWN')\n",
    "        print('degs hgnc-formatted:', dsid, sampleid)    \n",
    "\n",
    "        # enrichment\n",
    "        DATA, N_UP,N_DOWN =  cmap2_gsea_setup(gene_num_up, gene_num_down)\n",
    "        print('cmap matched deg:',N_UP,N_DOWN)\n",
    "        gsea_res= run_gsea(DATA, N_UP, N_DOWN)\n",
    "        print('finish gsea, head:', gsea_res[:3])\n",
    "        gsea_res_form = format_gsea_res(gsea_res, cell)\n",
    "        enrich_inv, enrich_pos = format_enrich(gsea_res_form, cell)\n",
    "        print('enrich saved, shape:', enrich_inv.shape, enrich_pos.shape, enrich_inv.head(1), enrich_inv.head(1))\n",
    "\n",
    "        # perturbation\n",
    "        dge =pd.concat([deg_up, deg_down]).sort_values('stat')\n",
    "        cell_type_deg_rank = cmap2_cmap1_perturb_rank_dur[cmap2_cmap1_perturb_rank_dur.index.isin(dge['gene'].tolist())]\n",
    "        cell_type_deg_z = z_score_df[z_score_df.index.isin(dge['gene'].tolist())]\n",
    "        print('deg genes matched to cmap:',cell_type_deg_z.shape[0])\n",
    "        get_perturb_zs(cell, 'INV', enrich_inv, dge, cell_type_deg_z, cell_type_deg_rank)\n",
    "        get_perturb_zs(cell, 'POS',enrich_pos, dge, cell_type_deg_z, cell_type_deg_rank)\n",
    "        print('inv and pos perturbs saved:', len(os.listdir('/share/fsmresfiles/SpatialT/drug-target-cmap2/'+dsid+'/'+sampleid+'/Perturbation_SVG/'+cell+'/'+'INV/')),len(os.listdir('/share/fsmresfiles/SpatialT/drug-target-cmap2/'+dsid+'/'+sampleid+'/Perturbation_SVG/'+cell+'/'+'POS/')) )\n",
    "        perturb_dir = '/share/fsmresfiles/SpatialT/drug-target-cmap2/'+dsid+'/'+sampleid+'/Perturbation_SVG/'+cell+'/'\n",
    "        format_perturb(perturb_dir, cell)\n",
    "        print('perturb files formatted:', len(os.listdir('/share/fsmresfiles/SpatialT/website/staging/data_v3_release/drug_screen/drug_perturbation_cmap2_SVG/'+dsid+'/'+sampleid+'/'+cell+'/INV/')), len(os.listdir('/share/fsmresfiles/SpatialT/website/staging/data_v3_release/drug_screen/drug_perturbation_cmap2_SVG/'+dsid+'/'+sampleid+'/'+cell+'/POS/')))\n",
    "        print('\\n')\n"
   ]
  },
  {
   "cell_type": "code",
   "execution_count": 134,
   "metadata": {},
   "outputs": [
    {
     "name": "stdout",
     "output_type": "stream",
     "text": [
      "deg file read in for: DS4A DS4A.1 B.cell\n",
      "deg shape: (373, 4) (1325, 4)\n",
      "degs hgnc-formatted: DS4A DS4A.1\n",
      "cmap matched deg: 294 1141\n",
      "finish gsea, head: [(0, 1.0), (0, 1.0), (0, 1.0)]\n",
      "enrich saved, shape: (500, 5) (500, 5)                                         CMAP_instance           Drug  \\\n",
      "124110  PAC038_U2OS_6H:BRD-K26431593-001-01-3:10.0258  BRD-K26431593   \n",
      "\n",
      "        Enrichment_score  P-value  Adj-p  \n",
      "124110              0.37      0.0    0.0                                           CMAP_instance           Drug  \\\n",
      "124110  PAC038_U2OS_6H:BRD-K26431593-001-01-3:10.0258  BRD-K26431593   \n",
      "\n",
      "        Enrichment_score  P-value  Adj-p  \n",
      "124110              0.37      0.0    0.0  \n",
      "deg genes matched to cmap: 1435\n",
      "inv and pos perturbs saved: 500 500\n",
      "perturb files formatted: 1000 1000\n",
      "\n",
      "\n",
      "deg file read in for: DS4A DS4A.1 TMKI67\n",
      "deg shape: (1401, 4) (766, 4)\n",
      "degs hgnc-formatted: DS4A DS4A.1\n",
      "cmap matched deg: 1152 646\n",
      "finish gsea, head: [(-0.1969237122481995, 0.0), (0, 1.0), (-0.1745978011410172, 0.0)]\n",
      "enrich saved, shape: (500, 5) (500, 5)                                    CMAP_instance           Drug  \\\n",
      "114283  PAC069_U2OS_6H:BRD-K05402890-001-08-4:20  BRD-K05402890   \n",
      "\n",
      "        Enrichment_score  P-value  Adj-p  \n",
      "114283             0.518      0.0    0.0                                      CMAP_instance           Drug  \\\n",
      "114283  PAC069_U2OS_6H:BRD-K05402890-001-08-4:20  BRD-K05402890   \n",
      "\n",
      "        Enrichment_score  P-value  Adj-p  \n",
      "114283             0.518      0.0    0.0  \n",
      "deg genes matched to cmap: 1798\n",
      "inv and pos perturbs saved: 500 500\n",
      "perturb files formatted: 1000 1000\n",
      "\n",
      "\n",
      "deg file read in for: DS4A DS4A.1 NK\n",
      "deg shape: (128, 4) (106, 4)\n",
      "degs hgnc-formatted: DS4A DS4A.1\n",
      "cmap matched deg: 110 91\n",
      "finish gsea, head: [(0, 1.0), (0, 1.0), (0, 1.0)]\n",
      "enrich saved, shape: (500, 5) (500, 5)                                         CMAP_instance           Drug  \\\n",
      "111479  PAC016_U2OS_6H:BRD-K58977196-001-01-7:9.74349  BRD-K58977196   \n",
      "\n",
      "        Enrichment_score  P-value  Adj-p  \n",
      "111479             0.531      0.0    0.0                                           CMAP_instance           Drug  \\\n",
      "111479  PAC016_U2OS_6H:BRD-K58977196-001-01-7:9.74349  BRD-K58977196   \n",
      "\n",
      "        Enrichment_score  P-value  Adj-p  \n",
      "111479             0.531      0.0    0.0  \n",
      "deg genes matched to cmap: 201\n",
      "inv and pos perturbs saved: 500 500\n",
      "perturb files formatted: 1000 1000\n",
      "\n",
      "\n",
      "deg file read in for: DS4A DS4A.1 CD4\n",
      "deg shape: (343, 4) (815, 4)\n",
      "degs hgnc-formatted: DS4A DS4A.1\n",
      "cmap matched deg: 286 703\n",
      "finish gsea, head: [(0, 1.0), (0, 1.0), (0, 1.0)]\n",
      "enrich saved, shape: (500, 5) (500, 5)                                         CMAP_instance           Drug  \\\n",
      "123045  PAC019_U2OS_6H:BRD-K91922990-001-01-0:10.0756  BRD-K91922990   \n",
      "\n",
      "        Enrichment_score  P-value  Adj-p  \n",
      "123045             0.385      0.0    0.0                                           CMAP_instance           Drug  \\\n",
      "123045  PAC019_U2OS_6H:BRD-K91922990-001-01-0:10.0756  BRD-K91922990   \n",
      "\n",
      "        Enrichment_score  P-value  Adj-p  \n",
      "123045             0.385      0.0    0.0  \n",
      "deg genes matched to cmap: 989\n",
      "inv and pos perturbs saved: 500 500\n",
      "perturb files formatted: 1000 1000\n",
      "\n",
      "\n",
      "deg file read in for: DS4A DS4A.1 Fibroblast\n",
      "deg shape: (868, 4) (1320, 4)\n",
      "degs hgnc-formatted: DS4A DS4A.1\n",
      "cmap matched deg: 715 1102\n",
      "finish gsea, head: [(0.18417102561996934, 0.0), (0, 1.0), (0.0987589374990431, 0.001)]\n",
      "enrich saved, shape: (500, 5) (500, 5)                                         CMAP_instance       Drug  \\\n",
      "134905  FIBR038_MCLF035SZ_6H:BRD-K59184148-001-04-2:4  SB-216763   \n",
      "\n",
      "        Enrichment_score  P-value  Adj-p  \n",
      "134905             0.382      0.0    0.0                                           CMAP_instance       Drug  \\\n",
      "134905  FIBR038_MCLF035SZ_6H:BRD-K59184148-001-04-2:4  SB-216763   \n",
      "\n",
      "        Enrichment_score  P-value  Adj-p  \n",
      "134905             0.382      0.0    0.0  \n",
      "deg genes matched to cmap: 1817\n",
      "inv and pos perturbs saved: 500 500\n",
      "perturb files formatted: 1000 1000\n",
      "\n",
      "\n",
      "deg file read in for: DS4A DS4A.1 Endothelial\n",
      "deg shape: (782, 4) (1569, 4)\n",
      "degs hgnc-formatted: DS4A DS4A.1\n",
      "cmap matched deg: 647 1284\n",
      "finish gsea, head: [(0, 1.0), (0, 1.0), (0, 1.0)]\n",
      "enrich saved, shape: (500, 5) (500, 5)                                         CMAP_instance     Drug  \\\n",
      "138201  FIBR023_MCLF126CN_6H:BRD-K67075780-001-03-7:4  TGX-115   \n",
      "\n",
      "        Enrichment_score  P-value  Adj-p  \n",
      "138201             0.373      0.0    0.0                                           CMAP_instance     Drug  \\\n",
      "138201  FIBR023_MCLF126CN_6H:BRD-K67075780-001-03-7:4  TGX-115   \n",
      "\n",
      "        Enrichment_score  P-value  Adj-p  \n",
      "138201             0.373      0.0    0.0  \n",
      "deg genes matched to cmap: 1931\n",
      "inv and pos perturbs saved: 500 500\n",
      "perturb files formatted: 1000 1000\n",
      "\n",
      "\n",
      "deg file read in for: DS4A DS4A.1 T.reg\n",
      "deg shape: (272, 4) (689, 4)\n",
      "degs hgnc-formatted: DS4A DS4A.1\n",
      "cmap matched deg: 234 586\n",
      "finish gsea, head: [(0, 1.0), (0, 1.0), (0, 1.0)]\n",
      "enrich saved, shape: (500, 5) (500, 5)                                         CMAP_instance           Drug  \\\n",
      "120294  PAC016_U2OS_6H:BRD-K45056520-001-01-3:9.87382  BRD-K45056520   \n",
      "\n",
      "        Enrichment_score  P-value  Adj-p  \n",
      "120294             0.358      0.0    0.0                                           CMAP_instance           Drug  \\\n",
      "120294  PAC016_U2OS_6H:BRD-K45056520-001-01-3:9.87382  BRD-K45056520   \n",
      "\n",
      "        Enrichment_score  P-value  Adj-p  \n",
      "120294             0.358      0.0    0.0  \n",
      "deg genes matched to cmap: 820\n",
      "inv and pos perturbs saved: 500 500\n",
      "perturb files formatted: 1000 1000\n",
      "\n",
      "\n",
      "deg file read in for: DS4A DS4A.1 DC\n",
      "deg shape: (198, 4) (931, 4)\n",
      "degs hgnc-formatted: DS4A DS4A.1\n",
      "cmap matched deg: 160 810\n",
      "finish gsea, head: [(0.19187025820975634, 0.0), (0, 1.0), (0, 1.0)]\n",
      "enrich saved, shape: (500, 5) (500, 5)                                         CMAP_instance           Drug  \\\n",
      "116138  PAC061_U2OS_6H:BRD-K43481697-001-01-2:10.0413  BRD-K43481697   \n",
      "\n",
      "        Enrichment_score  P-value  Adj-p  \n",
      "116138             0.594      0.0    0.0                                           CMAP_instance           Drug  \\\n",
      "116138  PAC061_U2OS_6H:BRD-K43481697-001-01-2:10.0413  BRD-K43481697   \n",
      "\n",
      "        Enrichment_score  P-value  Adj-p  \n",
      "116138             0.594      0.0    0.0  \n",
      "deg genes matched to cmap: 970\n",
      "inv and pos perturbs saved: 500 500\n",
      "perturb files formatted: 1000 1000\n",
      "\n",
      "\n",
      "deg file read in for: DS4A DS4A.1 Malignant\n",
      "deg shape: (1187, 4) (1049, 4)\n",
      "degs hgnc-formatted: DS4A DS4A.1\n",
      "cmap matched deg: 957 895\n",
      "finish gsea, head: [(0, 1.0), (0, 1.0), (0, 1.0)]\n",
      "enrich saved, shape: (500, 5) (500, 5)                                    CMAP_instance          Drug  \\\n",
      "117039  PAC011_U2OS_6H:BRD-A84481105-003-18-0:20  thioridazine   \n",
      "\n",
      "        Enrichment_score  P-value  Adj-p  \n",
      "117039             0.378      0.0    0.0                                      CMAP_instance          Drug  \\\n",
      "117039  PAC011_U2OS_6H:BRD-A84481105-003-18-0:20  thioridazine   \n",
      "\n",
      "        Enrichment_score  P-value  Adj-p  \n",
      "117039             0.378      0.0    0.0  \n",
      "deg genes matched to cmap: 1852\n",
      "inv and pos perturbs saved: 500 500\n",
      "perturb files formatted: 1000 1000\n",
      "\n",
      "\n",
      "deg file read in for: DS4A DS4A.1 CD8\n",
      "deg shape: (282, 4) (619, 4)\n",
      "degs hgnc-formatted: DS4A DS4A.1\n",
      "cmap matched deg: 237 541\n",
      "finish gsea, head: [(0, 1.0), (0, 1.0), (0, 1.0)]\n",
      "enrich saved, shape: (500, 5) (500, 5)                                         CMAP_instance           Drug  \\\n",
      "119377  PAC018_U2OS_6H:BRD-K03376048-001-01-8:9.99171  BRD-K03376048   \n",
      "\n",
      "        Enrichment_score  P-value  Adj-p  \n",
      "119377             0.545      0.0    0.0                                           CMAP_instance           Drug  \\\n",
      "119377  PAC018_U2OS_6H:BRD-K03376048-001-01-8:9.99171  BRD-K03376048   \n",
      "\n",
      "        Enrichment_score  P-value  Adj-p  \n",
      "119377             0.545      0.0    0.0  \n",
      "deg genes matched to cmap: 778\n",
      "inv and pos perturbs saved: 500 500\n",
      "perturb files formatted: 1000 1000\n",
      "\n",
      "\n",
      "deg file read in for: DS4A DS4A.1 Monocyte\n",
      "deg shape: (268, 4) (229, 4)\n",
      "degs hgnc-formatted: DS4A DS4A.1\n",
      "cmap matched deg: 222 204\n",
      "finish gsea, head: [(0, 1.0), (0, 1.0), (0, 1.0)]\n",
      "enrich saved, shape: (500, 5) (500, 5)                                         CMAP_instance           Drug  \\\n",
      "113587  PAC054_U2OS_6H:BRD-K37269981-001-01-4:10.1441  BRD-K37269981   \n",
      "\n",
      "        Enrichment_score  P-value  Adj-p  \n",
      "113587             0.509      0.0    0.0                                           CMAP_instance           Drug  \\\n",
      "113587  PAC054_U2OS_6H:BRD-K37269981-001-01-4:10.1441  BRD-K37269981   \n",
      "\n",
      "        Enrichment_score  P-value  Adj-p  \n",
      "113587             0.509      0.0    0.0  \n"
     ]
    },
    {
     "name": "stdout",
     "output_type": "stream",
     "text": [
      "deg genes matched to cmap: 426\n",
      "inv and pos perturbs saved: 500 500\n",
      "perturb files formatted: 1000 1000\n",
      "\n",
      "\n",
      "deg file read in for: DS4A DS4A.1 Macrophage\n",
      "deg shape: (559, 4) (1910, 4)\n",
      "degs hgnc-formatted: DS4A DS4A.1\n",
      "cmap matched deg: 462 1595\n",
      "finish gsea, head: [(0, 1.0), (0, 1.0), (0, 1.0)]\n",
      "enrich saved, shape: (500, 5) (500, 5)                                         CMAP_instance           Drug  \\\n",
      "117948  PAC039_U2OS_6H:BRD-K24514314-001-01-6:10.0068  BRD-K24514314   \n",
      "\n",
      "        Enrichment_score  P-value  Adj-p  \n",
      "117948             0.382      0.0    0.0                                           CMAP_instance           Drug  \\\n",
      "117948  PAC039_U2OS_6H:BRD-K24514314-001-01-6:10.0068  BRD-K24514314   \n",
      "\n",
      "        Enrichment_score  P-value  Adj-p  \n",
      "117948             0.382      0.0    0.0  \n",
      "deg genes matched to cmap: 2057\n",
      "inv and pos perturbs saved: 500 500\n",
      "perturb files formatted: 1000 1000\n",
      "\n",
      "\n"
     ]
    }
   ],
   "source": [
    "#z = 0\n",
    "#for i in range(all_patho_deg.shape[0]):\n",
    "    #print(z)\n",
    "    #dsid = all_patho_deg.iloc[0][0]\n",
    "    #sampleid = all_patho_deg.iloc[0][1]\n",
    "dsid = 'DS4A'\n",
    "sampleid = 'DS4A.1'\n",
    "deg_dir = '/share/fsmresfiles/SpatialT/drug-target/'+dsid+'/'+sampleid+'/DGE_dec_SVG'\n",
    "cell_direc = [i for i in os.listdir(deg_dir) if 'UP' not in i and 'DOWN' not in i]\n",
    "run_enrich_perturb(dsid, sampleid, deg_dir, cell_direc)\n",
    "    #z+=1"
   ]
  },
  {
   "cell_type": "code",
   "execution_count": null,
   "metadata": {
    "collapsed": true
   },
   "outputs": [],
   "source": []
  },
  {
   "cell_type": "markdown",
   "metadata": {
    "collapsed": true
   },
   "source": [
    "## case study"
   ]
  },
  {
   "cell_type": "code",
   "execution_count": 140,
   "metadata": {
    "collapsed": true
   },
   "outputs": [],
   "source": [
    "enrich_inv_mal = pd.read_csv('/share/fsmresfiles/SpatialT/drug-target-cmap2/DS4A/DS4A.1/Enrichment_SVG/Malignant.csv')"
   ]
  },
  {
   "cell_type": "code",
   "execution_count": 141,
   "metadata": {
    "collapsed": true
   },
   "outputs": [],
   "source": [
    "case_drugs = ['everolimus','sirolimus','BRD-K68202742','LY-294002','wortmannin','BIBU-1361','perhexiline','NVP-AUY922']"
   ]
  },
  {
   "cell_type": "code",
   "execution_count": 142,
   "metadata": {
    "collapsed": true
   },
   "outputs": [],
   "source": [
    "enrich_inv_mal = enrich_inv_mal.sort_values('es', ascending=False)\n",
    "enrich_inv_mal = enrich_inv_mal.reset_index(drop=True)"
   ]
  },
  {
   "cell_type": "code",
   "execution_count": 144,
   "metadata": {
    "collapsed": true
   },
   "outputs": [],
   "source": [
    "def case_drugs_select(enrich_df, ct):\n",
    "    enrich_df.index = enrich_df['Unnamed: 0']\n",
    "    enrich_df = enrich_df.drop('Unnamed: 0', axis = 1)\n",
    "    enrich_df_sel = enrich_df[enrich_df['drug'].isin(case_drugs)]\n",
    "    enrich_df_sel = enrich_df_sel.sort_values('es', ascending=False)\n",
    "    enrich_df_sel = enrich_df_sel.drop_duplicates(subset=['drug'])\n",
    "    enrich_df_sel['cell_type'] = ct\n",
    "\n",
    "    return enrich_df_sel"
   ]
  },
  {
   "cell_type": "code",
   "execution_count": 145,
   "metadata": {
    "collapsed": true
   },
   "outputs": [],
   "source": [
    "enrich_inv_mal_case = case_drugs_select(enrich_inv_mal, 'Mal')"
   ]
  },
  {
   "cell_type": "code",
   "execution_count": 146,
   "metadata": {},
   "outputs": [
    {
     "data": {
      "text/html": [
       "<div>\n",
       "<style scoped>\n",
       "    .dataframe tbody tr th:only-of-type {\n",
       "        vertical-align: middle;\n",
       "    }\n",
       "\n",
       "    .dataframe tbody tr th {\n",
       "        vertical-align: top;\n",
       "    }\n",
       "\n",
       "    .dataframe thead th {\n",
       "        text-align: right;\n",
       "    }\n",
       "</style>\n",
       "<table border=\"1\" class=\"dataframe\">\n",
       "  <thead>\n",
       "    <tr style=\"text-align: right;\">\n",
       "      <th></th>\n",
       "      <th>index</th>\n",
       "      <th>es</th>\n",
       "      <th>p</th>\n",
       "      <th>p-adj</th>\n",
       "      <th>drug</th>\n",
       "      <th>cell_type</th>\n",
       "    </tr>\n",
       "    <tr>\n",
       "      <th>Unnamed: 0</th>\n",
       "      <th></th>\n",
       "      <th></th>\n",
       "      <th></th>\n",
       "      <th></th>\n",
       "      <th></th>\n",
       "      <th></th>\n",
       "    </tr>\n",
       "  </thead>\n",
       "  <tbody>\n",
       "    <tr>\n",
       "      <th>everolimus--CPC014_HT29_6H:BRD-K13514097-001-01-2:10</th>\n",
       "      <td>19394</td>\n",
       "      <td>0.339</td>\n",
       "      <td>0.0</td>\n",
       "      <td>0.0</td>\n",
       "      <td>everolimus</td>\n",
       "      <td>Mal</td>\n",
       "    </tr>\n",
       "    <tr>\n",
       "      <th>wortmannin--ERG015_PC3_6H:BRD-A75409952-001-01-6:10</th>\n",
       "      <td>97377</td>\n",
       "      <td>0.314</td>\n",
       "      <td>0.0</td>\n",
       "      <td>0.0</td>\n",
       "      <td>wortmannin</td>\n",
       "      <td>Mal</td>\n",
       "    </tr>\n",
       "    <tr>\n",
       "      <th>BIBU-1361--CPC005_VCAP_6H:BRD-K49294207-300-01-2:10</th>\n",
       "      <td>65349</td>\n",
       "      <td>0.309</td>\n",
       "      <td>0.0</td>\n",
       "      <td>0.0</td>\n",
       "      <td>BIBU-1361</td>\n",
       "      <td>Mal</td>\n",
       "    </tr>\n",
       "    <tr>\n",
       "      <th>sirolimus--CPC006_CL34_6H:BRD-A23770159-001-02-3:11.1</th>\n",
       "      <td>49788</td>\n",
       "      <td>0.298</td>\n",
       "      <td>0.0</td>\n",
       "      <td>0.0</td>\n",
       "      <td>sirolimus</td>\n",
       "      <td>Mal</td>\n",
       "    </tr>\n",
       "    <tr>\n",
       "      <th>LY-294002--PAC038_U2OS_6H:BRD-K27305650-003-01-4:20</th>\n",
       "      <td>118689</td>\n",
       "      <td>0.298</td>\n",
       "      <td>0.0</td>\n",
       "      <td>0.0</td>\n",
       "      <td>LY-294002</td>\n",
       "      <td>Mal</td>\n",
       "    </tr>\n",
       "    <tr>\n",
       "      <th>NVP-AUY922--CPC006_NCIH508_6H:BRD-K41859756-001-01-9:10</th>\n",
       "      <td>51182</td>\n",
       "      <td>0.278</td>\n",
       "      <td>0.0</td>\n",
       "      <td>0.0</td>\n",
       "      <td>NVP-AUY922</td>\n",
       "      <td>Mal</td>\n",
       "    </tr>\n",
       "    <tr>\n",
       "      <th>BRD-K68202742--HOG002_MCF7_6H:BRD-K68202742-001-10-8:0.3704</th>\n",
       "      <td>11089</td>\n",
       "      <td>0.274</td>\n",
       "      <td>0.0</td>\n",
       "      <td>0.0</td>\n",
       "      <td>BRD-K68202742</td>\n",
       "      <td>Mal</td>\n",
       "    </tr>\n",
       "    <tr>\n",
       "      <th>perhexiline--CPC006_PC3_6H:BRD-A19633847-050-20-6:10</th>\n",
       "      <td>34747</td>\n",
       "      <td>0.261</td>\n",
       "      <td>0.0</td>\n",
       "      <td>0.0</td>\n",
       "      <td>perhexiline</td>\n",
       "      <td>Mal</td>\n",
       "    </tr>\n",
       "  </tbody>\n",
       "</table>\n",
       "</div>"
      ],
      "text/plain": [
       "                                                     index     es    p  p-adj  \\\n",
       "Unnamed: 0                                                                      \n",
       "everolimus--CPC014_HT29_6H:BRD-K13514097-001-01...   19394  0.339  0.0    0.0   \n",
       "wortmannin--ERG015_PC3_6H:BRD-A75409952-001-01-...   97377  0.314  0.0    0.0   \n",
       "BIBU-1361--CPC005_VCAP_6H:BRD-K49294207-300-01-...   65349  0.309  0.0    0.0   \n",
       "sirolimus--CPC006_CL34_6H:BRD-A23770159-001-02-...   49788  0.298  0.0    0.0   \n",
       "LY-294002--PAC038_U2OS_6H:BRD-K27305650-003-01-...  118689  0.298  0.0    0.0   \n",
       "NVP-AUY922--CPC006_NCIH508_6H:BRD-K41859756-001...   51182  0.278  0.0    0.0   \n",
       "BRD-K68202742--HOG002_MCF7_6H:BRD-K68202742-001...   11089  0.274  0.0    0.0   \n",
       "perhexiline--CPC006_PC3_6H:BRD-A19633847-050-20...   34747  0.261  0.0    0.0   \n",
       "\n",
       "                                                             drug cell_type  \n",
       "Unnamed: 0                                                                   \n",
       "everolimus--CPC014_HT29_6H:BRD-K13514097-001-01...     everolimus       Mal  \n",
       "wortmannin--ERG015_PC3_6H:BRD-A75409952-001-01-...     wortmannin       Mal  \n",
       "BIBU-1361--CPC005_VCAP_6H:BRD-K49294207-300-01-...      BIBU-1361       Mal  \n",
       "sirolimus--CPC006_CL34_6H:BRD-A23770159-001-02-...      sirolimus       Mal  \n",
       "LY-294002--PAC038_U2OS_6H:BRD-K27305650-003-01-...      LY-294002       Mal  \n",
       "NVP-AUY922--CPC006_NCIH508_6H:BRD-K41859756-001...     NVP-AUY922       Mal  \n",
       "BRD-K68202742--HOG002_MCF7_6H:BRD-K68202742-001...  BRD-K68202742       Mal  \n",
       "perhexiline--CPC006_PC3_6H:BRD-A19633847-050-20...    perhexiline       Mal  "
      ]
     },
     "execution_count": 146,
     "metadata": {},
     "output_type": "execute_result"
    }
   ],
   "source": [
    "enrich_inv_mal_case"
   ]
  },
  {
   "cell_type": "code",
   "execution_count": 152,
   "metadata": {
    "collapsed": true
   },
   "outputs": [],
   "source": [
    "enrich_dir = '/share/fsmresfiles/SpatialT/drug-target-cmap2/DS4A/DS4A.1/Enrichment_SVG'\n",
    "def case_drugs_select_nonmal(ct):\n",
    "    enrich_df = pd.read_csv(enrich_dir+'/'+ct+'.csv')\n",
    "    enrich_df.index = enrich_df['Unnamed: 0']\n",
    "    enrich_df = enrich_df.drop('Unnamed: 0', axis = 1)\n",
    "    enrich_df_sel = enrich_df[enrich_df.index.isin(enrich_inv_mal_case.index.tolist())]\n",
    "    enrich_df_sel['cell_type'] = ct\n",
    "    return enrich_df_sel"
   ]
  },
  {
   "cell_type": "code",
   "execution_count": null,
   "metadata": {},
   "outputs": [],
   "source": [
    "enrich_inv_tmk_case = case_drugs_select_nonmal('TMKI67')\n",
    "enrich_inv_cd4_case = case_drugs_select_nonmal('CD4')\n",
    "enrich_inv_cd8_case = case_drugs_select_nonmal('CD8')\n",
    "enrich_inv_dc_case = case_drugs_select_nonmal('DC')\n",
    "enrich_inv_mono_case = case_drugs_select_nonmal('Monocyte')\n",
    "enrich_inv_nk_case = case_drugs_select_nonmal('NK')\n",
    "enrich_inv_treg_case = case_drugs_select_nonmal('T.reg')"
   ]
  },
  {
   "cell_type": "code",
   "execution_count": 169,
   "metadata": {
    "collapsed": true
   },
   "outputs": [],
   "source": [
    "ds4a1_enrich_sel_drugs = pd.concat([pd.concat([pd.concat([pd.concat([pd.concat([pd.concat([pd.concat([enrich_inv_mal_case,enrich_inv_tmk_case]), enrich_inv_cd4_case]),enrich_inv_cd8_case]), enrich_inv_nk_case]),enrich_inv_dc_case]),enrich_inv_mono_case]),enrich_inv_treg_case])"
   ]
  },
  {
   "cell_type": "code",
   "execution_count": 170,
   "metadata": {
    "collapsed": true
   },
   "outputs": [],
   "source": [
    "drug_upd = []\n",
    "for i in ds4a1_enrich_sel_drugs['drug'].tolist():\n",
    "    if i == 'BRD-K68202742':\n",
    "        drug_upd.append('Trichostatin A (HDAC)')\n",
    "    elif i == 'NVP-AUY922':\n",
    "        drug_upd.append('Luminespib (HSP90)')\n",
    "    elif i == 'LY-294002':\n",
    "        drug_upd.append('LY-294002 (PI3K)')\n",
    "    elif i == 'wortmannin':\n",
    "        drug_upd.append('Wortmannin (PI3K)')\n",
    "    elif i == 'perhexiline':\n",
    "        drug_upd.append('Perhexiline (CPT)')\n",
    "    elif i == 'BIBU-1361':\n",
    "        drug_upd.append('BIBU-1361 (EGFR)')\n",
    "    elif i == 'sirolimus':\n",
    "        drug_upd.append('Sirolimus (mTOR)')\n",
    "    elif i == 'everolimus':\n",
    "        drug_upd.append('Everolimus (mTOR)')"
   ]
  },
  {
   "cell_type": "code",
   "execution_count": 172,
   "metadata": {
    "collapsed": true
   },
   "outputs": [],
   "source": [
    "ds4a1_enrich_sel_drugs['Drug_upd'] = drug_upd"
   ]
  },
  {
   "cell_type": "code",
   "execution_count": 173,
   "metadata": {},
   "outputs": [
    {
     "data": {
      "text/html": [
       "<div>\n",
       "<style scoped>\n",
       "    .dataframe tbody tr th:only-of-type {\n",
       "        vertical-align: middle;\n",
       "    }\n",
       "\n",
       "    .dataframe tbody tr th {\n",
       "        vertical-align: top;\n",
       "    }\n",
       "\n",
       "    .dataframe thead th {\n",
       "        text-align: right;\n",
       "    }\n",
       "</style>\n",
       "<table border=\"1\" class=\"dataframe\">\n",
       "  <thead>\n",
       "    <tr style=\"text-align: right;\">\n",
       "      <th></th>\n",
       "      <th>index</th>\n",
       "      <th>es</th>\n",
       "      <th>p</th>\n",
       "      <th>p-adj</th>\n",
       "      <th>drug</th>\n",
       "      <th>cell_type</th>\n",
       "      <th>Drug_upd</th>\n",
       "    </tr>\n",
       "    <tr>\n",
       "      <th>Unnamed: 0</th>\n",
       "      <th></th>\n",
       "      <th></th>\n",
       "      <th></th>\n",
       "      <th></th>\n",
       "      <th></th>\n",
       "      <th></th>\n",
       "      <th></th>\n",
       "    </tr>\n",
       "  </thead>\n",
       "  <tbody>\n",
       "    <tr>\n",
       "      <th>everolimus--CPC014_HT29_6H:BRD-K13514097-001-01-2:10</th>\n",
       "      <td>19394</td>\n",
       "      <td>0.339</td>\n",
       "      <td>0.0</td>\n",
       "      <td>0.0</td>\n",
       "      <td>everolimus</td>\n",
       "      <td>Mal</td>\n",
       "      <td>Everolimus (mTOR)</td>\n",
       "    </tr>\n",
       "    <tr>\n",
       "      <th>wortmannin--ERG015_PC3_6H:BRD-A75409952-001-01-6:10</th>\n",
       "      <td>97377</td>\n",
       "      <td>0.314</td>\n",
       "      <td>0.0</td>\n",
       "      <td>0.0</td>\n",
       "      <td>wortmannin</td>\n",
       "      <td>Mal</td>\n",
       "      <td>Wortmannin (PI3K)</td>\n",
       "    </tr>\n",
       "    <tr>\n",
       "      <th>BIBU-1361--CPC005_VCAP_6H:BRD-K49294207-300-01-2:10</th>\n",
       "      <td>65349</td>\n",
       "      <td>0.309</td>\n",
       "      <td>0.0</td>\n",
       "      <td>0.0</td>\n",
       "      <td>BIBU-1361</td>\n",
       "      <td>Mal</td>\n",
       "      <td>BIBU-1361 (EGFR)</td>\n",
       "    </tr>\n",
       "    <tr>\n",
       "      <th>sirolimus--CPC006_CL34_6H:BRD-A23770159-001-02-3:11.1</th>\n",
       "      <td>49788</td>\n",
       "      <td>0.298</td>\n",
       "      <td>0.0</td>\n",
       "      <td>0.0</td>\n",
       "      <td>sirolimus</td>\n",
       "      <td>Mal</td>\n",
       "      <td>Sirolimus (mTOR)</td>\n",
       "    </tr>\n",
       "    <tr>\n",
       "      <th>LY-294002--PAC038_U2OS_6H:BRD-K27305650-003-01-4:20</th>\n",
       "      <td>118689</td>\n",
       "      <td>0.298</td>\n",
       "      <td>0.0</td>\n",
       "      <td>0.0</td>\n",
       "      <td>LY-294002</td>\n",
       "      <td>Mal</td>\n",
       "      <td>LY-294002 (PI3K)</td>\n",
       "    </tr>\n",
       "    <tr>\n",
       "      <th>...</th>\n",
       "      <td>...</td>\n",
       "      <td>...</td>\n",
       "      <td>...</td>\n",
       "      <td>...</td>\n",
       "      <td>...</td>\n",
       "      <td>...</td>\n",
       "      <td>...</td>\n",
       "    </tr>\n",
       "    <tr>\n",
       "      <th>sirolimus--CPC006_CL34_6H:BRD-A23770159-001-02-3:11.1</th>\n",
       "      <td>49788</td>\n",
       "      <td>-0.197</td>\n",
       "      <td>0.0</td>\n",
       "      <td>0.0</td>\n",
       "      <td>sirolimus</td>\n",
       "      <td>T.reg</td>\n",
       "      <td>Sirolimus (mTOR)</td>\n",
       "    </tr>\n",
       "    <tr>\n",
       "      <th>NVP-AUY922--CPC006_NCIH508_6H:BRD-K41859756-001-01-9:10</th>\n",
       "      <td>51182</td>\n",
       "      <td>-0.190</td>\n",
       "      <td>0.0</td>\n",
       "      <td>0.0</td>\n",
       "      <td>NVP-AUY922</td>\n",
       "      <td>T.reg</td>\n",
       "      <td>Luminespib (HSP90)</td>\n",
       "    </tr>\n",
       "    <tr>\n",
       "      <th>BIBU-1361--CPC005_VCAP_6H:BRD-K49294207-300-01-2:10</th>\n",
       "      <td>65349</td>\n",
       "      <td>-0.197</td>\n",
       "      <td>0.0</td>\n",
       "      <td>0.0</td>\n",
       "      <td>BIBU-1361</td>\n",
       "      <td>T.reg</td>\n",
       "      <td>BIBU-1361 (EGFR)</td>\n",
       "    </tr>\n",
       "    <tr>\n",
       "      <th>wortmannin--ERG015_PC3_6H:BRD-A75409952-001-01-6:10</th>\n",
       "      <td>97377</td>\n",
       "      <td>0.000</td>\n",
       "      <td>1.0</td>\n",
       "      <td>1.0</td>\n",
       "      <td>wortmannin</td>\n",
       "      <td>T.reg</td>\n",
       "      <td>Wortmannin (PI3K)</td>\n",
       "    </tr>\n",
       "    <tr>\n",
       "      <th>LY-294002--PAC038_U2OS_6H:BRD-K27305650-003-01-4:20</th>\n",
       "      <td>118689</td>\n",
       "      <td>-0.233</td>\n",
       "      <td>0.0</td>\n",
       "      <td>0.0</td>\n",
       "      <td>LY-294002</td>\n",
       "      <td>T.reg</td>\n",
       "      <td>LY-294002 (PI3K)</td>\n",
       "    </tr>\n",
       "  </tbody>\n",
       "</table>\n",
       "<p>64 rows × 7 columns</p>\n",
       "</div>"
      ],
      "text/plain": [
       "                                                     index     es    p  p-adj  \\\n",
       "Unnamed: 0                                                                      \n",
       "everolimus--CPC014_HT29_6H:BRD-K13514097-001-01...   19394  0.339  0.0    0.0   \n",
       "wortmannin--ERG015_PC3_6H:BRD-A75409952-001-01-...   97377  0.314  0.0    0.0   \n",
       "BIBU-1361--CPC005_VCAP_6H:BRD-K49294207-300-01-...   65349  0.309  0.0    0.0   \n",
       "sirolimus--CPC006_CL34_6H:BRD-A23770159-001-02-...   49788  0.298  0.0    0.0   \n",
       "LY-294002--PAC038_U2OS_6H:BRD-K27305650-003-01-...  118689  0.298  0.0    0.0   \n",
       "...                                                    ...    ...  ...    ...   \n",
       "sirolimus--CPC006_CL34_6H:BRD-A23770159-001-02-...   49788 -0.197  0.0    0.0   \n",
       "NVP-AUY922--CPC006_NCIH508_6H:BRD-K41859756-001...   51182 -0.190  0.0    0.0   \n",
       "BIBU-1361--CPC005_VCAP_6H:BRD-K49294207-300-01-...   65349 -0.197  0.0    0.0   \n",
       "wortmannin--ERG015_PC3_6H:BRD-A75409952-001-01-...   97377  0.000  1.0    1.0   \n",
       "LY-294002--PAC038_U2OS_6H:BRD-K27305650-003-01-...  118689 -0.233  0.0    0.0   \n",
       "\n",
       "                                                          drug cell_type  \\\n",
       "Unnamed: 0                                                                 \n",
       "everolimus--CPC014_HT29_6H:BRD-K13514097-001-01...  everolimus       Mal   \n",
       "wortmannin--ERG015_PC3_6H:BRD-A75409952-001-01-...  wortmannin       Mal   \n",
       "BIBU-1361--CPC005_VCAP_6H:BRD-K49294207-300-01-...   BIBU-1361       Mal   \n",
       "sirolimus--CPC006_CL34_6H:BRD-A23770159-001-02-...   sirolimus       Mal   \n",
       "LY-294002--PAC038_U2OS_6H:BRD-K27305650-003-01-...   LY-294002       Mal   \n",
       "...                                                        ...       ...   \n",
       "sirolimus--CPC006_CL34_6H:BRD-A23770159-001-02-...   sirolimus     T.reg   \n",
       "NVP-AUY922--CPC006_NCIH508_6H:BRD-K41859756-001...  NVP-AUY922     T.reg   \n",
       "BIBU-1361--CPC005_VCAP_6H:BRD-K49294207-300-01-...   BIBU-1361     T.reg   \n",
       "wortmannin--ERG015_PC3_6H:BRD-A75409952-001-01-...  wortmannin     T.reg   \n",
       "LY-294002--PAC038_U2OS_6H:BRD-K27305650-003-01-...   LY-294002     T.reg   \n",
       "\n",
       "                                                              Drug_upd  \n",
       "Unnamed: 0                                                              \n",
       "everolimus--CPC014_HT29_6H:BRD-K13514097-001-01...   Everolimus (mTOR)  \n",
       "wortmannin--ERG015_PC3_6H:BRD-A75409952-001-01-...   Wortmannin (PI3K)  \n",
       "BIBU-1361--CPC005_VCAP_6H:BRD-K49294207-300-01-...    BIBU-1361 (EGFR)  \n",
       "sirolimus--CPC006_CL34_6H:BRD-A23770159-001-02-...    Sirolimus (mTOR)  \n",
       "LY-294002--PAC038_U2OS_6H:BRD-K27305650-003-01-...    LY-294002 (PI3K)  \n",
       "...                                                                ...  \n",
       "sirolimus--CPC006_CL34_6H:BRD-A23770159-001-02-...    Sirolimus (mTOR)  \n",
       "NVP-AUY922--CPC006_NCIH508_6H:BRD-K41859756-001...  Luminespib (HSP90)  \n",
       "BIBU-1361--CPC005_VCAP_6H:BRD-K49294207-300-01-...    BIBU-1361 (EGFR)  \n",
       "wortmannin--ERG015_PC3_6H:BRD-A75409952-001-01-...   Wortmannin (PI3K)  \n",
       "LY-294002--PAC038_U2OS_6H:BRD-K27305650-003-01-...    LY-294002 (PI3K)  \n",
       "\n",
       "[64 rows x 7 columns]"
      ]
     },
     "execution_count": 173,
     "metadata": {},
     "output_type": "execute_result"
    }
   ],
   "source": [
    "ds4a1_enrich_sel_drugs"
   ]
  },
  {
   "cell_type": "code",
   "execution_count": 176,
   "metadata": {
    "collapsed": true
   },
   "outputs": [],
   "source": [
    "ds4a1_enrich_sel_drugs.to_csv('DS4A1_mal_svg_ranked_case_study_drugs_es.csv')"
   ]
  },
  {
   "cell_type": "code",
   "execution_count": null,
   "metadata": {
    "collapsed": true
   },
   "outputs": [],
   "source": []
  }
 ],
 "metadata": {
  "kernelspec": {
   "display_name": "stlearn",
   "language": "python",
   "name": "stlearn"
  },
  "language_info": {
   "codemirror_mode": {
    "name": "ipython",
    "version": 3
   },
   "file_extension": ".py",
   "mimetype": "text/x-python",
   "name": "python",
   "nbconvert_exporter": "python",
   "pygments_lexer": "ipython3",
   "version": "3.8.15"
  }
 },
 "nbformat": 4,
 "nbformat_minor": 2
}
